{
 "cells": [
  {
   "cell_type": "markdown",
   "id": "af4460dc-d3f2-4488-9437-f86d16c4023a",
   "metadata": {},
   "source": [
    "API calls\n",
    "-\n",
    "Your stakeholder wants you to extract the budget, revenue, and MPAA Rating (G/PG/PG-13/R), which is also called \"Certification\".\r\n",
    "\r\n",
    "Note: this process can take a long time and may need to run overnight.\r\n",
    "\r\n",
    "Specifications - Financial Data\r\n",
    "Your stakeholder would like you to extract and save the results for movies that meet all of the criteria established in part 1 of the project (You should already have a filtered dataframe saved from part one as a csv file)\r\n",
    "\r\n",
    "As a proof-of-concept, they requested you perform a test extraction of movies that started in either 2001 or 2002.\r\n",
    "\r\n",
    "Each year should be saved as a separate .csv.gz file\r\n",
    "\r\n",
    "Hint: Use the two custom functions from the lessons (Intro to TMDB API, and Efficient TMDB API Calls). Be sure to define these functions prior to calling them in your code!\r\n",
    "\r\n",
    "One function will add the certification (MPGG Rating) to movie.info\r\n",
    "The other function will help you append/extend a JSON file with Python\r\n",
    "Confirm Your API Function works!\r\n",
    "\r\n",
    "In order to ensure your function for extracting movie data from TMDB is working, test your function on these 2 movie ids: tt0848228 (\"The Avengers\") and tt0332280 (\"The Notebook\"). Make sure that your function runs without error and that it returns the correct movie's data for both test ids.\r\n",
    "\r\n",
    "Hint: Ideally, you can organize the code segments from the previous lesson to create an outer and inner loop, but if you get stuck, you can complete one year at a time."
   ]
  },
  {
   "cell_type": "code",
   "execution_count": 2,
   "id": "f627d44a-51f8-4cc8-9822-70b95fe43924",
   "metadata": {},
   "outputs": [],
   "source": [
    "# Standard Imports\n",
    "import numpy as np\n",
    "import pandas as pd\n",
    "import matplotlib.pyplot as plt\n",
    "import seaborn as sns\n",
    "# Additional Imports\n",
    "import os, json, math, time\n",
    "from yelpapi import YelpAPI\n",
    "from tqdm.notebook import tqdm_notebook"
   ]
  },
  {
   "cell_type": "code",
   "execution_count": 3,
   "id": "f1d10ca9-3a2f-414e-b883-330498b59d7b",
   "metadata": {},
   "outputs": [
    {
     "name": "stdout",
     "output_type": "stream",
     "text": [
      "Requirement already satisfied: tmdbsimple in c:\\users\\12103\\anaconda3\\envs\\dojo-env\\lib\\site-packages (2.9.1)\n",
      "Requirement already satisfied: requests in c:\\users\\12103\\anaconda3\\envs\\dojo-env\\lib\\site-packages (from tmdbsimple) (2.29.0)\n",
      "Requirement already satisfied: charset-normalizer<4,>=2 in c:\\users\\12103\\anaconda3\\envs\\dojo-env\\lib\\site-packages (from requests->tmdbsimple) (2.0.4)\n",
      "Requirement already satisfied: idna<4,>=2.5 in c:\\users\\12103\\anaconda3\\envs\\dojo-env\\lib\\site-packages (from requests->tmdbsimple) (3.4)\n",
      "Requirement already satisfied: urllib3<1.27,>=1.21.1 in c:\\users\\12103\\anaconda3\\envs\\dojo-env\\lib\\site-packages (from requests->tmdbsimple) (1.26.15)\n",
      "Requirement already satisfied: certifi>=2017.4.17 in c:\\users\\12103\\anaconda3\\envs\\dojo-env\\lib\\site-packages (from requests->tmdbsimple) (2023.5.7)\n"
     ]
    }
   ],
   "source": [
    "# Install tmdbsimple (only need to run once)\n",
    "!pip install tmdbsimple"
   ]
  },
  {
   "cell_type": "code",
   "execution_count": 4,
   "id": "4241d1a8-8b0d-4eae-8c14-b9a3a34faa60",
   "metadata": {},
   "outputs": [
    {
     "data": {
      "text/plain": [
       "dict_keys(['client-id', 'api-key'])"
      ]
     },
     "execution_count": 4,
     "metadata": {},
     "output_type": "execute_result"
    }
   ],
   "source": [
    "import json\n",
    "with open('/Users/12103/.secret/tmdb_api.json', 'r') as f:\n",
    "    login = json.load(f)\n",
    "## Display the keys of the loaded dict\n",
    "login.keys()"
   ]
  },
  {
   "cell_type": "code",
   "execution_count": 5,
   "id": "677194ba-4c32-4fcd-9eea-ed5d278c39d1",
   "metadata": {},
   "outputs": [],
   "source": [
    "# Importing tmdbsimple and setting the API_KEY\n",
    "import tmdbsimple as tmdb\n",
    "tmdb.API_KEY =  login['api-key']"
   ]
  },
  {
   "cell_type": "code",
   "execution_count": 7,
   "id": "d6d1b21c-caa0-4e92-8357-268162e04202",
   "metadata": {},
   "outputs": [
    {
     "data": {
      "text/plain": [
       "220000000"
      ]
     },
     "execution_count": 7,
     "metadata": {},
     "output_type": "execute_result"
    }
   ],
   "source": [
    "movie = tmdb.Movies('tt0848228')\n",
    "info = movie.info()\n",
    "info['budget']"
   ]
  },
  {
   "cell_type": "code",
   "execution_count": 8,
   "id": "796f78dd-d6df-4540-b26f-3f20a03b2676",
   "metadata": {},
   "outputs": [
    {
     "data": {
      "text/plain": [
       "115603229"
      ]
     },
     "execution_count": 8,
     "metadata": {},
     "output_type": "execute_result"
    }
   ],
   "source": [
    "movie = tmdb.Movies('tt0332280')\n",
    "info = movie.info()\n",
    "info['revenue']"
   ]
  },
  {
   "cell_type": "markdown",
   "id": "0f70880e-339d-47b0-9e9f-ebfc0b7548d1",
   "metadata": {},
   "source": [
    "**Saving functions**"
   ]
  },
  {
   "cell_type": "code",
   "execution_count": 24,
   "id": "39caebac-d96b-41db-a47a-d6c3ae0881c4",
   "metadata": {},
   "outputs": [],
   "source": [
    "def get_movie_with_rating(movie_id):\n",
    "    # Get the movie object for the current id\n",
    "    movie = tmdb.Movies(movie_id)\n",
    "    \n",
    "    # save the .info .releases dictionaries\n",
    "    movie_info = movie.info()\n",
    "    releases = movie.releases()\n",
    "    \n",
    "    # Loop through countries in releases\n",
    "    for c in releases['countries']:\n",
    "        # if the country abbreviation==US\n",
    "        if c['iso_3166_1' ] =='US':\n",
    "            ## save a \"certification\" key in the info dict with the certification\n",
    "            movie_info['certification'] = c['certification']\n",
    "    return movie_info\n",
    "\n",
    "\n",
    "def write_json(new_data, filename): \n",
    "    \"\"\"Appends a list of records (new_data) to a json file (filename). \n",
    "    Adapted from: https://www.geeksforgeeks.org/append-to-json-file-using-python/\"\"\"  \n",
    "    \n",
    "    with open(filename,'r+') as file:\n",
    "        # First we load existing data into a dict.\n",
    "        file_data = json.load(file)\n",
    "        ## Choose extend or append\n",
    "        if (type(new_data) == list) & (type(file_data) == list):\n",
    "            file_data.extend(new_data)\n",
    "        else:\n",
    "             file_data.append(new_data)\n",
    "        # Sets file's current position at offset.\n",
    "        file.seek(0)\n",
    "        # convert back to json.\n",
    "        json.dump(file_data, file)"
   ]
  },
  {
   "cell_type": "code",
   "execution_count": 25,
   "id": "33dcde44-1b38-4ce8-8f00-1ad7b1646a7a",
   "metadata": {},
   "outputs": [
    {
     "data": {
      "text/plain": [
       "['.ipynb_checkpoints',\n",
       " 'final_tmdb_data_2010.csv.gz',\n",
       " 'tmdb_api_results_2010.json',\n",
       " 'tmdb_api_results_[2001, 2002].json',\n",
       " 'tmdb_api_results_[2001].json']"
      ]
     },
     "execution_count": 25,
     "metadata": {},
     "output_type": "execute_result"
    }
   ],
   "source": [
    "# Create the folder for saving files (if it doesn't exist)\n",
    "FOLDER = \"MovieData/\"\n",
    "os.makedirs(FOLDER, exist_ok=True)\n",
    "\n",
    "# Show the list of files included in the folder\n",
    "sorted(os.listdir(FOLDER))"
   ]
  },
  {
   "cell_type": "code",
   "execution_count": 26,
   "id": "990fff66-d28b-4004-b6fc-085b08d7c835",
   "metadata": {},
   "outputs": [
    {
     "data": {
      "text/html": [
       "<div>\n",
       "<style scoped>\n",
       "    .dataframe tbody tr th:only-of-type {\n",
       "        vertical-align: middle;\n",
       "    }\n",
       "\n",
       "    .dataframe tbody tr th {\n",
       "        vertical-align: top;\n",
       "    }\n",
       "\n",
       "    .dataframe thead th {\n",
       "        text-align: right;\n",
       "    }\n",
       "</style>\n",
       "<table border=\"1\" class=\"dataframe\">\n",
       "  <thead>\n",
       "    <tr style=\"text-align: right;\">\n",
       "      <th></th>\n",
       "      <th>tconst</th>\n",
       "      <th>titleType</th>\n",
       "      <th>primaryTitle</th>\n",
       "      <th>originalTitle</th>\n",
       "      <th>isAdult</th>\n",
       "      <th>startYear</th>\n",
       "      <th>endYear</th>\n",
       "      <th>runtimeMinutes</th>\n",
       "      <th>genres</th>\n",
       "    </tr>\n",
       "  </thead>\n",
       "  <tbody>\n",
       "    <tr>\n",
       "      <th>0</th>\n",
       "      <td>tt0035423</td>\n",
       "      <td>movie</td>\n",
       "      <td>Kate &amp; Leopold</td>\n",
       "      <td>Kate &amp; Leopold</td>\n",
       "      <td>0</td>\n",
       "      <td>2001.0</td>\n",
       "      <td>NaN</td>\n",
       "      <td>118</td>\n",
       "      <td>Comedy,Fantasy,Romance</td>\n",
       "    </tr>\n",
       "    <tr>\n",
       "      <th>1</th>\n",
       "      <td>tt0062336</td>\n",
       "      <td>movie</td>\n",
       "      <td>The Tango of the Widower and Its Distorting Mi...</td>\n",
       "      <td>El tango del viudo y su espejo deformante</td>\n",
       "      <td>0</td>\n",
       "      <td>2020.0</td>\n",
       "      <td>NaN</td>\n",
       "      <td>70</td>\n",
       "      <td>Drama</td>\n",
       "    </tr>\n",
       "    <tr>\n",
       "      <th>2</th>\n",
       "      <td>tt0069049</td>\n",
       "      <td>movie</td>\n",
       "      <td>The Other Side of the Wind</td>\n",
       "      <td>The Other Side of the Wind</td>\n",
       "      <td>0</td>\n",
       "      <td>2018.0</td>\n",
       "      <td>NaN</td>\n",
       "      <td>122</td>\n",
       "      <td>Drama</td>\n",
       "    </tr>\n",
       "    <tr>\n",
       "      <th>3</th>\n",
       "      <td>tt0088751</td>\n",
       "      <td>movie</td>\n",
       "      <td>The Naked Monster</td>\n",
       "      <td>The Naked Monster</td>\n",
       "      <td>0</td>\n",
       "      <td>2005.0</td>\n",
       "      <td>NaN</td>\n",
       "      <td>100</td>\n",
       "      <td>Comedy,Horror,Sci-Fi</td>\n",
       "    </tr>\n",
       "    <tr>\n",
       "      <th>4</th>\n",
       "      <td>tt0096056</td>\n",
       "      <td>movie</td>\n",
       "      <td>Crime and Punishment</td>\n",
       "      <td>Crime and Punishment</td>\n",
       "      <td>0</td>\n",
       "      <td>2002.0</td>\n",
       "      <td>NaN</td>\n",
       "      <td>126</td>\n",
       "      <td>Drama</td>\n",
       "    </tr>\n",
       "    <tr>\n",
       "      <th>...</th>\n",
       "      <td>...</td>\n",
       "      <td>...</td>\n",
       "      <td>...</td>\n",
       "      <td>...</td>\n",
       "      <td>...</td>\n",
       "      <td>...</td>\n",
       "      <td>...</td>\n",
       "      <td>...</td>\n",
       "      <td>...</td>\n",
       "    </tr>\n",
       "    <tr>\n",
       "      <th>86974</th>\n",
       "      <td>tt9914942</td>\n",
       "      <td>movie</td>\n",
       "      <td>Life Without Sara Amat</td>\n",
       "      <td>La vida sense la Sara Amat</td>\n",
       "      <td>0</td>\n",
       "      <td>2019.0</td>\n",
       "      <td>NaN</td>\n",
       "      <td>74</td>\n",
       "      <td>Drama</td>\n",
       "    </tr>\n",
       "    <tr>\n",
       "      <th>86975</th>\n",
       "      <td>tt9915872</td>\n",
       "      <td>movie</td>\n",
       "      <td>The Last White Witch</td>\n",
       "      <td>My Girlfriend is a Wizard</td>\n",
       "      <td>0</td>\n",
       "      <td>2019.0</td>\n",
       "      <td>NaN</td>\n",
       "      <td>97</td>\n",
       "      <td>Comedy,Drama,Fantasy</td>\n",
       "    </tr>\n",
       "    <tr>\n",
       "      <th>86976</th>\n",
       "      <td>tt9916170</td>\n",
       "      <td>movie</td>\n",
       "      <td>The Rehearsal</td>\n",
       "      <td>O Ensaio</td>\n",
       "      <td>0</td>\n",
       "      <td>2019.0</td>\n",
       "      <td>NaN</td>\n",
       "      <td>51</td>\n",
       "      <td>Drama</td>\n",
       "    </tr>\n",
       "    <tr>\n",
       "      <th>86977</th>\n",
       "      <td>tt9916190</td>\n",
       "      <td>movie</td>\n",
       "      <td>Safeguard</td>\n",
       "      <td>Safeguard</td>\n",
       "      <td>0</td>\n",
       "      <td>2020.0</td>\n",
       "      <td>NaN</td>\n",
       "      <td>95</td>\n",
       "      <td>Action,Adventure,Thriller</td>\n",
       "    </tr>\n",
       "    <tr>\n",
       "      <th>86978</th>\n",
       "      <td>tt9916362</td>\n",
       "      <td>movie</td>\n",
       "      <td>Coven</td>\n",
       "      <td>Akelarre</td>\n",
       "      <td>0</td>\n",
       "      <td>2020.0</td>\n",
       "      <td>NaN</td>\n",
       "      <td>92</td>\n",
       "      <td>Drama,History</td>\n",
       "    </tr>\n",
       "  </tbody>\n",
       "</table>\n",
       "<p>86979 rows × 9 columns</p>\n",
       "</div>"
      ],
      "text/plain": [
       "          tconst titleType                                       primaryTitle  \\\n",
       "0      tt0035423     movie                                     Kate & Leopold   \n",
       "1      tt0062336     movie  The Tango of the Widower and Its Distorting Mi...   \n",
       "2      tt0069049     movie                         The Other Side of the Wind   \n",
       "3      tt0088751     movie                                  The Naked Monster   \n",
       "4      tt0096056     movie                               Crime and Punishment   \n",
       "...          ...       ...                                                ...   \n",
       "86974  tt9914942     movie                             Life Without Sara Amat   \n",
       "86975  tt9915872     movie                               The Last White Witch   \n",
       "86976  tt9916170     movie                                      The Rehearsal   \n",
       "86977  tt9916190     movie                                          Safeguard   \n",
       "86978  tt9916362     movie                                              Coven   \n",
       "\n",
       "                                   originalTitle  isAdult  startYear  endYear  \\\n",
       "0                                 Kate & Leopold        0     2001.0      NaN   \n",
       "1      El tango del viudo y su espejo deformante        0     2020.0      NaN   \n",
       "2                     The Other Side of the Wind        0     2018.0      NaN   \n",
       "3                              The Naked Monster        0     2005.0      NaN   \n",
       "4                           Crime and Punishment        0     2002.0      NaN   \n",
       "...                                          ...      ...        ...      ...   \n",
       "86974                 La vida sense la Sara Amat        0     2019.0      NaN   \n",
       "86975                  My Girlfriend is a Wizard        0     2019.0      NaN   \n",
       "86976                                   O Ensaio        0     2019.0      NaN   \n",
       "86977                                  Safeguard        0     2020.0      NaN   \n",
       "86978                                   Akelarre        0     2020.0      NaN   \n",
       "\n",
       "       runtimeMinutes                     genres  \n",
       "0                 118     Comedy,Fantasy,Romance  \n",
       "1                  70                      Drama  \n",
       "2                 122                      Drama  \n",
       "3                 100       Comedy,Horror,Sci-Fi  \n",
       "4                 126                      Drama  \n",
       "...               ...                        ...  \n",
       "86974              74                      Drama  \n",
       "86975              97       Comedy,Drama,Fantasy  \n",
       "86976              51                      Drama  \n",
       "86977              95  Action,Adventure,Thriller  \n",
       "86978              92              Drama,History  \n",
       "\n",
       "[86979 rows x 9 columns]"
      ]
     },
     "execution_count": 26,
     "metadata": {},
     "output_type": "execute_result"
    }
   ],
   "source": [
    "basics = pd.read_csv('DATA/basics.csv', low_memory=False)\n",
    "basics"
   ]
  },
  {
   "cell_type": "code",
   "execution_count": 32,
   "id": "87898888-a9fb-4c83-8c22-580f1e7cf30e",
   "metadata": {},
   "outputs": [],
   "source": [
    "YEAR = 2001\n",
    "# Create an empty list for saving errors\n",
    "errors = []"
   ]
  },
  {
   "cell_type": "code",
   "execution_count": 33,
   "id": "8ce9f7f3-f4e2-4820-bf1a-ebba58197d72",
   "metadata": {},
   "outputs": [
    {
     "name": "stdout",
     "output_type": "stream",
     "text": [
      "Creating MovieData/tmdb_api_results_2001.json for API results for year=2001.\n"
     ]
    }
   ],
   "source": [
    "# Define the JSON file to store results for the year\n",
    "JSON_FILE = f'{FOLDER}tmdb_api_results_{YEAR}.json'\n",
    "\n",
    "\n",
    "# Check if the JSON file exists\n",
    "file_exists = os.path.isfile(JSON_FILE)\n",
    "\n",
    "# If it does not exist: create it\n",
    "if file_exists == False:\n",
    "    print(f\"Creating {JSON_FILE} for API results for year={YEAR}.\")\n",
    "    \n",
    "    # save an empty dict with just \"imdb_id\" to the new json file.\n",
    "    with open(JSON_FILE,'w') as f:\n",
    "        json.dump([{'imdb_id':0}],f)\n",
    "\n",
    "# If it exists, print a message\n",
    "else:\n",
    "    print(f'The file {JSON_FILE} already exists.')"
   ]
  },
  {
   "cell_type": "code",
   "execution_count": 34,
   "id": "3d95f457-b6d5-46d7-bcff-abf288d3b472",
   "metadata": {},
   "outputs": [
    {
     "data": {
      "text/plain": [
       "0     tt0035423\n",
       "10    tt0114447\n",
       "14    tt0116916\n",
       "18    tt0118589\n",
       "19    tt0118652\n",
       "Name: tconst, dtype: object"
      ]
     },
     "execution_count": 34,
     "metadata": {},
     "output_type": "execute_result"
    }
   ],
   "source": [
    "# Filtering for movies from selected startYear\n",
    "df = basics.loc[ basics['startYear']==YEAR].copy()\n",
    "# saving movie ids to list\n",
    "movie_ids = df['tconst']\n",
    "movie_ids.head()"
   ]
  },
  {
   "cell_type": "code",
   "execution_count": 35,
   "id": "13704987-60c7-4c88-a88e-ba78d9ba8cd7",
   "metadata": {},
   "outputs": [
    {
     "data": {
      "text/html": [
       "<div>\n",
       "<style scoped>\n",
       "    .dataframe tbody tr th:only-of-type {\n",
       "        vertical-align: middle;\n",
       "    }\n",
       "\n",
       "    .dataframe tbody tr th {\n",
       "        vertical-align: top;\n",
       "    }\n",
       "\n",
       "    .dataframe thead th {\n",
       "        text-align: right;\n",
       "    }\n",
       "</style>\n",
       "<table border=\"1\" class=\"dataframe\">\n",
       "  <thead>\n",
       "    <tr style=\"text-align: right;\">\n",
       "      <th></th>\n",
       "      <th>imdb_id</th>\n",
       "    </tr>\n",
       "  </thead>\n",
       "  <tbody>\n",
       "    <tr>\n",
       "      <th>0</th>\n",
       "      <td>0</td>\n",
       "    </tr>\n",
       "  </tbody>\n",
       "</table>\n",
       "</div>"
      ],
      "text/plain": [
       "   imdb_id\n",
       "0        0"
      ]
     },
     "execution_count": 35,
     "metadata": {},
     "output_type": "execute_result"
    }
   ],
   "source": [
    "# Load existing data from json into a dataframe called \"previous_df\"\n",
    "previous_df = pd.read_json(JSON_FILE)\n",
    "previous_df"
   ]
  },
  {
   "cell_type": "code",
   "execution_count": 37,
   "id": "cea2a380-a72d-40b4-b4d6-daee69134810",
   "metadata": {},
   "outputs": [],
   "source": [
    "# filter out any ids that are already in the JSON_FILE\n",
    "movie_ids_to_get = movie_ids[~movie_ids.isin(previous_df['imdb_id'])]"
   ]
  },
  {
   "cell_type": "code",
   "execution_count": 38,
   "id": "2cff77b4-5b93-4603-b7ab-9d7580c9ccdd",
   "metadata": {},
   "outputs": [
    {
     "data": {
      "application/vnd.jupyter.widget-view+json": {
       "model_id": "50c5a533086246ec99fbf9be06e2c9ec",
       "version_major": 2,
       "version_minor": 0
      },
      "text/plain": [
       "Movies from 2001:   0%|          | 0/1576 [00:00<?, ?it/s]"
      ]
     },
     "metadata": {},
     "output_type": "display_data"
    }
   ],
   "source": [
    "# Loop through movie_ids_to_get with a tqdm progress bar\n",
    "for movie_id in tqdm_notebook(movie_ids_to_get, f\"Movies from {YEAR}\"):\n",
    "\n",
    "    # Attempt to retrieve then data for the movie id\n",
    "    try:\n",
    "        temp = get_movie_with_rating(movie_id)  #This uses your pre-ma    de function\n",
    "        # Append/extend results to existing file using a pre-made function\n",
    "        write_json(temp,JSON_FILE)\n",
    "        # Short 20 ms sleep to prevent overwhelming server\n",
    "        time.sleep(0.02)\n",
    "\n",
    "    # If it fails,  make a dict with just the id and None for certification.\n",
    "    except Exception as e:\n",
    "        errors.append([movie_id, e])"
   ]
  },
  {
   "cell_type": "code",
   "execution_count": 39,
   "id": "37438a2d-4e79-44d0-b4d5-d169df397d07",
   "metadata": {},
   "outputs": [
    {
     "name": "stdout",
     "output_type": "stream",
     "text": [
      "- Total errors: 217\n"
     ]
    }
   ],
   "source": [
    "print(f\"- Total errors: {len(errors)}\")"
   ]
  },
  {
   "cell_type": "code",
   "execution_count": 40,
   "id": "1f6e0231-9af3-41b4-bcc5-7f058b2844de",
   "metadata": {},
   "outputs": [],
   "source": [
    "# Save the final results to a csv.gz file\n",
    "final_year_df = pd.read_json(JSON_FILE)\n",
    "\n",
    "csv_fname = f\"{FOLDER}final_tmdb_data_{YEAR}.csv.gz\"\n",
    "final_year_df.to_csv(csv_fname, compression=\"gzip\", index=False)"
   ]
  },
  {
   "cell_type": "code",
   "execution_count": 41,
   "id": "362229c8-18e8-480d-a970-324ca079118d",
   "metadata": {},
   "outputs": [],
   "source": [
    "# Set the year to filter for 2002\n",
    "YEAR = 2002\n",
    "# Create an empty list for saving errors\n",
    "errors = []"
   ]
  },
  {
   "cell_type": "code",
   "execution_count": 42,
   "id": "85e68883-8b05-4aec-9247-ba8240bd0b60",
   "metadata": {},
   "outputs": [
    {
     "name": "stdout",
     "output_type": "stream",
     "text": [
      "Creating MovieData/tmdb_api_results_2002.json for API results for year=2002.\n"
     ]
    }
   ],
   "source": [
    "# Define the JSON file to store results for the year\n",
    "JSON_FILE = f'{FOLDER}tmdb_api_results_{YEAR}.json'\n",
    "\n",
    "\n",
    "# Check if the JSON file exists\n",
    "file_exists = os.path.isfile(JSON_FILE)\n",
    "\n",
    "# If it does not exist: create it\n",
    "if file_exists == False:\n",
    "    print(f\"Creating {JSON_FILE} for API results for year={YEAR}.\")\n",
    "    \n",
    "    # save an empty dict with just \"imdb_id\" to the new json file.\n",
    "    with open(JSON_FILE,'w') as f:\n",
    "        json.dump([{'imdb_id':0}],f)\n",
    "\n",
    "# If it exists, print a message\n",
    "else:\n",
    "    print(f'The file {JSON_FILE} already exists.')"
   ]
  },
  {
   "cell_type": "code",
   "execution_count": 43,
   "id": "39d5ea54-c3ed-4a32-b185-77b075bb0bbb",
   "metadata": {},
   "outputs": [
    {
     "data": {
      "text/plain": [
       "4     tt0096056\n",
       "23    tt0118926\n",
       "32    tt0119980\n",
       "44    tt0120679\n",
       "51    tt0120804\n",
       "Name: tconst, dtype: object"
      ]
     },
     "execution_count": 43,
     "metadata": {},
     "output_type": "execute_result"
    }
   ],
   "source": [
    "# Filtering for movies from selected startYear\n",
    "df = basics.loc[ basics['startYear']==YEAR].copy()\n",
    "# saving movie ids to list\n",
    "movie_ids = df['tconst']\n",
    "movie_ids.head()"
   ]
  },
  {
   "cell_type": "code",
   "execution_count": 44,
   "id": "b10c95ed-7a28-4629-804e-e72a96d09825",
   "metadata": {},
   "outputs": [
    {
     "data": {
      "text/html": [
       "<div>\n",
       "<style scoped>\n",
       "    .dataframe tbody tr th:only-of-type {\n",
       "        vertical-align: middle;\n",
       "    }\n",
       "\n",
       "    .dataframe tbody tr th {\n",
       "        vertical-align: top;\n",
       "    }\n",
       "\n",
       "    .dataframe thead th {\n",
       "        text-align: right;\n",
       "    }\n",
       "</style>\n",
       "<table border=\"1\" class=\"dataframe\">\n",
       "  <thead>\n",
       "    <tr style=\"text-align: right;\">\n",
       "      <th></th>\n",
       "      <th>imdb_id</th>\n",
       "    </tr>\n",
       "  </thead>\n",
       "  <tbody>\n",
       "    <tr>\n",
       "      <th>0</th>\n",
       "      <td>0</td>\n",
       "    </tr>\n",
       "  </tbody>\n",
       "</table>\n",
       "</div>"
      ],
      "text/plain": [
       "   imdb_id\n",
       "0        0"
      ]
     },
     "execution_count": 44,
     "metadata": {},
     "output_type": "execute_result"
    }
   ],
   "source": [
    "# Load existing data from json into a dataframe called \"previous_df\"\n",
    "previous_df = pd.read_json(JSON_FILE)\n",
    "previous_df"
   ]
  },
  {
   "cell_type": "code",
   "execution_count": 45,
   "id": "1ca3993b-b3be-4737-81a3-55881efb4bba",
   "metadata": {},
   "outputs": [],
   "source": [
    "# filter out any ids that are already in the JSON_FILE\n",
    "movie_ids_to_get = movie_ids[~movie_ids.isin(previous_df['imdb_id'])]"
   ]
  },
  {
   "cell_type": "code",
   "execution_count": 46,
   "id": "0b4ffadf-5ad6-4ad5-bc77-e366ea3cb875",
   "metadata": {},
   "outputs": [
    {
     "data": {
      "application/vnd.jupyter.widget-view+json": {
       "model_id": "b1ff78392e1142b1adfe58788e5f9861",
       "version_major": 2,
       "version_minor": 0
      },
      "text/plain": [
       "Movies from 2002:   0%|          | 0/1572 [00:00<?, ?it/s]"
      ]
     },
     "metadata": {},
     "output_type": "display_data"
    }
   ],
   "source": [
    "# Loop through movie_ids_to_get with a tqdm progress bar\n",
    "for movie_id in tqdm_notebook(movie_ids_to_get, f\"Movies from {YEAR}\"):\n",
    "\n",
    "    # Attempt to retrieve then data for the movie id\n",
    "    try:\n",
    "        temp = get_movie_with_rating(movie_id)  #This uses your pre-ma    de function\n",
    "        # Append/extend results to existing file using a pre-made function\n",
    "        write_json(temp,JSON_FILE)\n",
    "        # Short 20 ms sleep to prevent overwhelming server\n",
    "        time.sleep(0.02)\n",
    "\n",
    "    # If it fails,  make a dict with just the id and None for certification.\n",
    "    except Exception as e:\n",
    "        errors.append([movie_id, e])"
   ]
  },
  {
   "cell_type": "code",
   "execution_count": 47,
   "id": "25584fa3-bc0d-49fe-b8e0-e34642fcebee",
   "metadata": {},
   "outputs": [
    {
     "name": "stdout",
     "output_type": "stream",
     "text": [
      "- Total errors: 278\n"
     ]
    }
   ],
   "source": [
    "print(f\"- Total errors: {len(errors)}\")"
   ]
  },
  {
   "cell_type": "code",
   "execution_count": 48,
   "id": "075a170e-c936-48a5-91a8-d4c34c9578f7",
   "metadata": {},
   "outputs": [],
   "source": [
    "# Save the final results to a csv.gz file\n",
    "final_year_df = pd.read_json(JSON_FILE)\n",
    "\n",
    "csv_fname = f\"{FOLDER}final_tmdb_data_{YEAR}.csv.gz\"\n",
    "final_year_df.to_csv(csv_fname, compression=\"gzip\", index=False)"
   ]
  },
  {
   "cell_type": "code",
   "execution_count": null,
   "id": "6d16e1f9-80e7-4f19-9217-c365f222c507",
   "metadata": {},
   "outputs": [],
   "source": []
  }
 ],
 "metadata": {
  "kernelspec": {
   "display_name": "Python (dojo-env)",
   "language": "python",
   "name": "dojo-env"
  },
  "language_info": {
   "codemirror_mode": {
    "name": "ipython",
    "version": 3
   },
   "file_extension": ".py",
   "mimetype": "text/x-python",
   "name": "python",
   "nbconvert_exporter": "python",
   "pygments_lexer": "ipython3",
   "version": "3.10.10"
  },
  "widgets": {
   "application/vnd.jupyter.widget-state+json": {
    "state": {},
    "version_major": 2,
    "version_minor": 0
   }
  }
 },
 "nbformat": 4,
 "nbformat_minor": 5
}
