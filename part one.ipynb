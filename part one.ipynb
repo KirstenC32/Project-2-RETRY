{
 "cells": [
  {
   "cell_type": "code",
   "execution_count": 1,
   "id": "f10fe4f2-e935-42a9-8ec2-4b677d6563ea",
   "metadata": {},
   "outputs": [],
   "source": [
    "# example making new folder with os\n",
    "import os\n",
    "import pandas as pd"
   ]
  },
  {
   "cell_type": "code",
   "execution_count": 2,
   "id": "4bb0ecef-6b12-4873-9cee-f7499713fc86",
   "metadata": {},
   "outputs": [
    {
     "data": {
      "text/plain": [
       "['.ipynb_checkpoints',\n",
       " 'basics.csv',\n",
       " 'movies-ERD.png',\n",
       " 'ratings.csv',\n",
       " 'title-akas-us-only (4).csv',\n",
       " 'title.basics (3).tsv.gz',\n",
       " 'title.ratings (2).tsv.gz',\n",
       " 'titles.csv',\n",
       " 'tmdb_api_results_2010.json']"
      ]
     },
     "execution_count": 2,
     "metadata": {},
     "output_type": "execute_result"
    }
   ],
   "source": [
    "# Confirm folder was created and files added successfully\n",
    "os.listdir(\"Data/\")\n"
   ]
  },
  {
   "cell_type": "code",
   "execution_count": null,
   "id": "ea75d436-6512-425f-8cc7-3d83a397d1d3",
   "metadata": {},
   "outputs": [],
   "source": [
    "basics = pd.read_csv('DATA/title.basics (3).tsv.gz', sep='\\t', low_memory=False)\n"
   ]
  },
  {
   "cell_type": "code",
   "execution_count": null,
   "id": "4166c156-484c-43a7-ae08-b69e89d84bc8",
   "metadata": {},
   "outputs": [],
   "source": [
    "basics.head()"
   ]
  },
  {
   "cell_type": "code",
   "execution_count": null,
   "id": "e6672dbd-f38f-4673-ba1c-ff10da2d2171",
   "metadata": {},
   "outputs": [],
   "source": [
    "ratings = pd.read_csv('DATA/title.ratings (2).tsv.gz', sep='\\t', low_memory=False)"
   ]
  },
  {
   "cell_type": "code",
   "execution_count": null,
   "id": "e3856e11-b535-4e28-9d19-b8765c4083bb",
   "metadata": {},
   "outputs": [],
   "source": [
    "ratings.head()"
   ]
  },
  {
   "cell_type": "code",
   "execution_count": null,
   "id": "7506d035-4f10-4488-93d7-3ed5e8a0778a",
   "metadata": {},
   "outputs": [],
   "source": [
    "titles = pd.read_csv('DATA/title-akas-us-only (4).csv', low_memory=False)"
   ]
  },
  {
   "cell_type": "code",
   "execution_count": null,
   "id": "e99d338f-6e9d-4e4b-a9cd-7762df7a0367",
   "metadata": {},
   "outputs": [],
   "source": [
    "titles.head()"
   ]
  },
  {
   "cell_type": "markdown",
   "id": "d7d7fe98-9e7f-4264-90a0-6faefeecbbc2",
   "metadata": {},
   "source": [
    "Required Preprocessing - Details"
   ]
  },
  {
   "cell_type": "markdown",
   "id": "4b5c07f7-9133-4ccb-b1aa-513e4d05760c",
   "metadata": {},
   "source": [
    "1) Start by loading the title-akas-us-only.csv file. All non-us movies have been removed from this file for you.\n",
    "\n",
    "Any titleId included is a US-movie that should be kept.\n",
    "You will use the titleId's to filter for only US movies in the other 2 fil\n",
    "es:\n",
    "2) Load the title basics file next.\n",
    "\n",
    "3) Remove non-US movies from title basics\n",
    "\n",
    "The unique id's from the AKA's \"titleID\" column match the unique id's i the 'tconst'\n",
    " column.\n",
    "Any rows from title basics with tconst id's that are not included in the AKA's titleId's. You can use panda's .isin() method to remove non-US movies from title basics (example included below)."
   ]
  },
  {
   "cell_type": "markdown",
   "id": "0e8974ea-bbbb-4b54-8c9f-a419e3317899",
   "metadata": {},
   "source": [
    "3) Remove non-US movies from title basics\n",
    "\n",
    "The unique id's from the AKA's \"titleID\" column match the unique id's i the 'tconst' column.\n",
    "Any rows from title basics with tconst id's that are not included in the AKA's titleId's. You can use panda's .isin() method to remove non-US movies from title basw)."
   ]
  },
  {
   "cell_type": "code",
   "execution_count": null,
   "id": "b42db1aa-88a4-47c0-9f9b-4115ee207b6a",
   "metadata": {},
   "outputs": [],
   "source": [
    "# Filter the basics table down to only include the US by using the filter akas dataframe\n",
    "filter_us_titles = basics['tconst'].isin(titles['titleId'])\n",
    "basics = basics[filter_us_titles]\n",
    "basics\n"
   ]
  },
  {
   "cell_type": "markdown",
   "id": "0dea8c0e-a92b-4ee2-8600-764c85f47694",
   "metadata": {},
   "source": [
    "4) Perform the remaining preprocessing steps for title basics.\n",
    "\n",
    "Convert placeholder \"\\N\" values back to true null values to identify missing genres and runtimes."
   ]
  },
  {
   "cell_type": "code",
   "execution_count": null,
   "id": "f0547cd1-503b-4a1e-a475-081262cd68ec",
   "metadata": {},
   "outputs": [],
   "source": [
    "import pandas as pd\n",
    "import numpy as np\n",
    "import sqlalchemy\n",
    "sqlalchemy.__version__\n",
    "from sqlalchemy import create_engine\n",
    "pd.set_option('display.max_columns',50)"
   ]
  },
  {
   "cell_type": "code",
   "execution_count": null,
   "id": "d0878b58-e4f5-4a68-acb6-25edb3955b17",
   "metadata": {},
   "outputs": [],
   "source": [
    "basics = basics.replace({'\\\\N': np.nan})\n"
   ]
  },
  {
   "cell_type": "code",
   "execution_count": null,
   "id": "582290e8-4157-410e-bde2-c420a2d93215",
   "metadata": {},
   "outputs": [],
   "source": [
    "titles = titles.replace({'\\\\N': np.nan})"
   ]
  },
  {
   "cell_type": "code",
   "execution_count": null,
   "id": "d735500e-1e4f-477d-b2a0-7bce00ca1b2e",
   "metadata": {},
   "outputs": [],
   "source": [
    "ratings = ratings.replace({'\\\\N': np.nan})"
   ]
  },
  {
   "cell_type": "markdown",
   "id": "ba44c96f-be84-4145-91a9-e910da6c1f0d",
   "metadata": {},
   "source": [
    "Drop rows with null values in the runtimeMinutes or genres columns ONLY. Do not drop null values from other columns. Hint: dropna has a subset argument that accepts a list of columns to check."
   ]
  },
  {
   "cell_type": "code",
   "execution_count": null,
   "id": "d329b011-b120-44a0-96d1-efda7be60165",
   "metadata": {},
   "outputs": [],
   "source": [
    "basics = basics.dropna(subset=['runtimeMinutes', 'genres'])"
   ]
  },
  {
   "cell_type": "code",
   "execution_count": null,
   "id": "f3d5ddb5-61e5-409d-baf3-0c93b4289f20",
   "metadata": {},
   "outputs": [],
   "source": [
    "basics"
   ]
  },
  {
   "cell_type": "markdown",
   "id": "c6f8f806-78f0-441d-9c7a-b1112df392fe",
   "metadata": {},
   "source": [
    "Filter to keep only full-length movies (titleType==Movie)"
   ]
  },
  {
   "cell_type": "code",
   "execution_count": null,
   "id": "f82b1499-2b07-4227-917f-15fd2136a4bd",
   "metadata": {},
   "outputs": [],
   "source": [
    "filter_movie = basics['titleType']=='movie'\n",
    "                                            "
   ]
  },
  {
   "cell_type": "code",
   "execution_count": null,
   "id": "b7437c7b-3c61-4a0b-9056-367c05d85afa",
   "metadata": {},
   "outputs": [],
   "source": [
    "basics = basics[filter_movie]"
   ]
  },
  {
   "cell_type": "code",
   "execution_count": null,
   "id": "e7096152-7536-4263-a707-20ad647801a4",
   "metadata": {},
   "outputs": [],
   "source": [
    "basics"
   ]
  },
  {
   "cell_type": "markdown",
   "id": "8033b378-0989-4adc-9b3a-6487bfd700d8",
   "metadata": {},
   "source": [
    "Convert startYear to a float dtype"
   ]
  },
  {
   "cell_type": "code",
   "execution_count": null,
   "id": "32cbc504-851d-415d-a0e6-36dfb010298b",
   "metadata": {},
   "outputs": [],
   "source": [
    "basics['startYear'] = basics['startYear'].astype(float)"
   ]
  },
  {
   "cell_type": "code",
   "execution_count": null,
   "id": "143d335b-fcd5-421e-b9e7-701918ed5b7a",
   "metadata": {},
   "outputs": [],
   "source": [
    "basics.info()"
   ]
  },
  {
   "cell_type": "markdown",
   "id": "4b9e4158-fa75-4760-ba68-023ee52ad6b3",
   "metadata": {},
   "source": [
    "Filter to keep movies with startYears that are >=2000 and <=2022"
   ]
  },
  {
   "cell_type": "code",
   "execution_count": null,
   "id": "e21f9167-765f-4124-950e-4792aa029000",
   "metadata": {},
   "outputs": [],
   "source": [
    "basics = basics[(basics['startYear']>=2000)&(basics['startYear']<=2022)]\n"
   ]
  },
  {
   "cell_type": "code",
   "execution_count": null,
   "id": "e9b4f4e2-351d-45f5-8235-f7afcc58ac96",
   "metadata": {},
   "outputs": [],
   "source": [
    "basics.head()"
   ]
  },
  {
   "cell_type": "markdown",
   "id": "dea13048-2765-45bd-aed2-451294ee1302",
   "metadata": {},
   "source": [
    "Eliminate movies that include \"Documentary\" in genre:"
   ]
  },
  {
   "cell_type": "code",
   "execution_count": null,
   "id": "314b0cbb-82ec-409a-91d8-9defd9fdced5",
   "metadata": {},
   "outputs": [],
   "source": [
    "filter_documentaries = basics['genres'].str.contains('Documentary')"
   ]
  },
  {
   "cell_type": "code",
   "execution_count": null,
   "id": "8f91d081-5e6d-47df-a2cb-622bfa34390e",
   "metadata": {},
   "outputs": [],
   "source": [
    "# Exclude movies in the documentary category.\n",
    "basics = basics[~filter_documentaries]\n"
   ]
  },
  {
   "cell_type": "code",
   "execution_count": null,
   "id": "27c53f29-e93b-405e-8068-c1250eb61b08",
   "metadata": {},
   "outputs": [],
   "source": [
    "basics"
   ]
  },
  {
   "cell_type": "markdown",
   "id": "8e4d6ab7-29f4-4ed2-8a76-3c8725432c70",
   "metadata": {},
   "source": [
    "5) Display a final preview of your filtered title basics and save to a csv\n",
    "\n",
    "Display the .info() and .head() of your final title basics DataFrame    .\n",
    "Tip: You should have ~80,000 rows left. If you have significantly more or less, double-check your filtering ste\n",
    "    ps.\n",
    "Save the data to a CSV file in your Data folder."
   ]
  },
  {
   "cell_type": "code",
   "execution_count": null,
   "id": "f24314f5-770c-423d-9e9f-39e9a6ed4032",
   "metadata": {},
   "outputs": [],
   "source": [
    "basics.info()"
   ]
  },
  {
   "cell_type": "code",
   "execution_count": null,
   "id": "21be815e-29a2-474a-8ab9-9a66937efb13",
   "metadata": {},
   "outputs": [],
   "source": [
    "basics.head()"
   ]
  },
  {
   "cell_type": "markdown",
   "id": "cac6f583-8568-4315-9471-cee29192c782",
   "metadata": {},
   "source": [
    "6) Load and filter the title ratings file\n",
    "\n",
    "Load the title ratings data into a datafram\n",
    "e.\n",
    "Keep only movies that are included in your final title basics datafram    e.\n",
    "Hint: Filter ratings using title basics similarly to how you filtered basics with A filter_basics = ratings['tconst'].isin(basics['tconst'])\n",
    "\n",
    "\n",
    "Replace \"\\N\" with np.nan (if any)KAs:"
   ]
  },
  {
   "cell_type": "code",
   "execution_count": null,
   "id": "e2a24a6a-2751-4f65-aed2-585f8f7622a0",
   "metadata": {},
   "outputs": [],
   "source": [
    "ratings"
   ]
  },
  {
   "cell_type": "code",
   "execution_count": null,
   "id": "5a4323b8-7c90-491a-a233-13370f037e8a",
   "metadata": {},
   "outputs": [],
   "source": [
    "filter_ratings = ratings['tconst'].isin(basics['tconst'])\n",
    "ratings = ratings[filter_ratings]\n",
    "ratings"
   ]
  },
  {
   "cell_type": "code",
   "execution_count": null,
   "id": "40b90a86-5fe8-40c6-9651-5d8650cf96bf",
   "metadata": {},
   "outputs": [],
   "source": [
    "ratings = ratings.replace({'\\\\N': np.nan})"
   ]
  },
  {
   "cell_type": "markdown",
   "id": "504fa3f2-fabc-4ec7-b778-92e22ee17ba1",
   "metadata": {},
   "source": [
    "7) Display a final preview of your filtered title ratings and save to a csv\n",
    "\n",
    "Use the same approach as you did for saving title basics."
   ]
  },
  {
   "cell_type": "code",
   "execution_count": null,
   "id": "72c3fb56-d3b3-4855-be65-cddb08cd980e",
   "metadata": {},
   "outputs": [],
   "source": [
    "ratings.info()"
   ]
  },
  {
   "cell_type": "code",
   "execution_count": null,
   "id": "7ca1a3fb-e705-47f6-b121-86ab594c1469",
   "metadata": {},
   "outputs": [],
   "source": [
    "ratings.head()"
   ]
  },
  {
   "cell_type": "code",
   "execution_count": null,
   "id": "b7a80ef0-da1d-4341-be9f-51cb11a337d5",
   "metadata": {},
   "outputs": [],
   "source": [
    "#basics to csv\n",
    "basics.to_csv(\"Data/basics.csv\",index=False)\n",
    "#Where Data is folder name and basics is name for csv file. "
   ]
  },
  {
   "cell_type": "code",
   "execution_count": null,
   "id": "1e8d0629-c94e-4a23-a10b-0d9038b1eea3",
   "metadata": {},
   "outputs": [],
   "source": [
    "#Ratings to CSV\n",
    "ratings.to_csv(\"Data/ratings.csv\",index=False)"
   ]
  },
  {
   "cell_type": "code",
   "execution_count": null,
   "id": "cb3a5bbf-dbb4-4c61-a45e-b124ede1dd33",
   "metadata": {},
   "outputs": [],
   "source": [
    "#Title ratings to csz\n",
    "titles.to_csv(\"Data/titles.csv\",index=False)"
   ]
  },
  {
   "cell_type": "markdown",
   "id": "64d66e64-6277-48c8-95eb-632b5cdf509a",
   "metadata": {},
   "source": [
    "8) Save and commit your work\n",
    "\n",
    "Save and close your notebook and return to GitHub Deskto\n",
    "p.\n",
    "Before you commit your work, you will need to tell git to ignore large fil\n",
    "es.\n",
    "The 2 .tsv.gz files are too large to be committed to your project re- po.\n",
    "Ignore the title.basics.tsv.gz file using GitHub desk- top.\n",
    "Ignore the title.ratings.tsv.gz file, as - well.\n",
    "See the Handling Large Files section below for more information.\n",
    "Commit your work and push to GitHub."
   ]
  },
  {
   "cell_type": "code",
   "execution_count": null,
   "id": "659d9eb7-ba97-4ff0-b232-aa4826877bbd",
   "metadata": {},
   "outputs": [],
   "source": []
  }
 ],
 "metadata": {
  "kernelspec": {
   "display_name": "Python (dojo-env)",
   "language": "python",
   "name": "dojo-env"
  },
  "language_info": {
   "codemirror_mode": {
    "name": "ipython",
    "version": 3
   },
   "file_extension": ".py",
   "mimetype": "text/x-python",
   "name": "python",
   "nbconvert_exporter": "python",
   "pygments_lexer": "ipython3",
   "version": "3.10.10"
  },
  "widgets": {
   "application/vnd.jupyter.widget-state+json": {
    "state": {},
    "version_major": 2,
    "version_minor": 0
   }
  }
 },
 "nbformat": 4,
 "nbformat_minor": 5
}
